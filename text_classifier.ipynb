{
 "cells": [
  {
   "cell_type": "markdown",
   "metadata": {},
   "source": [
    "# Classificação de Texto"
   ]
  },
  {
   "cell_type": "markdown",
   "metadata": {},
   "source": [
    "<div style=\"text-align:justify\">\n",
    "Este notebook apresenta uma aplicação prática das técnicas de classificação. O exemplo explorado nesse exemplo mostra como classificar dados textuais. Para isso isso vamos testar diferentes algoritmos de classificação e comparar seus resultados.\n",
    "</div>"
   ]
  },
  {
   "cell_type": "markdown",
   "metadata": {},
   "source": [
    "### Carregando Pacotes"
   ]
  },
  {
   "cell_type": "code",
   "execution_count": 17,
   "metadata": {},
   "outputs": [],
   "source": [
    "import warnings, pandas, joblib\n",
    "\n",
    "from matplotlib import pyplot\n",
    "\n",
    "# machine learning algorithms\n",
    "from sklearn.ensemble import RandomForestClassifier\n",
    "from sklearn.linear_model import LogisticRegression\n",
    "\n",
    "# dataset balancer\n",
    "from imblearn.over_sampling import RandomOverSampler\n",
    "\n",
    "# text vectorizer\n",
    "from sklearn.feature_extraction.text import TfidfVectorizer\n",
    "\n",
    "# machine learning metrics report\n",
    "from sklearn.metrics import classification_report, confusion_matrix, ConfusionMatrixDisplay"
   ]
  },
  {
   "cell_type": "markdown",
   "metadata": {},
   "source": [
    "### Configurações"
   ]
  },
  {
   "cell_type": "code",
   "execution_count": 18,
   "metadata": {},
   "outputs": [],
   "source": [
    "warnings.filterwarnings(action='ignore')\n",
    "pyplot.rcParams['figure.figsize'] = (14, 8)\n",
    "pandas.set_option('display.max_colwidth', 100)"
   ]
  },
  {
   "cell_type": "markdown",
   "metadata": {},
   "source": [
    "### Dataset"
   ]
  },
  {
   "cell_type": "markdown",
   "metadata": {},
   "source": [
    "<div style=\"text-align:justify\">\n",
    "O dataset que vamos utilizar para esse exemplo descreve os comentários de uma loja de aplicativos. Estes comentários são escritos por usuários do aplicativo em questão. Vale ressaltar que os textos dos comentário já estão tratados (sem acentos, em lowercase e sem caracteres especiais) e os dados já estão rotulados.\n",
    "</div>"
   ]
  },
  {
   "cell_type": "code",
   "execution_count": 4,
   "metadata": {},
   "outputs": [
    {
     "data": {
      "text/html": [
       "<div>\n",
       "<style scoped>\n",
       "    .dataframe tbody tr th:only-of-type {\n",
       "        vertical-align: middle;\n",
       "    }\n",
       "\n",
       "    .dataframe tbody tr th {\n",
       "        vertical-align: top;\n",
       "    }\n",
       "\n",
       "    .dataframe thead th {\n",
       "        text-align: right;\n",
       "    }\n",
       "</style>\n",
       "<table border=\"1\" class=\"dataframe\">\n",
       "  <thead>\n",
       "    <tr style=\"text-align: right;\">\n",
       "      <th></th>\n",
       "      <th>review</th>\n",
       "      <th>label</th>\n",
       "    </tr>\n",
       "  </thead>\n",
       "  <tbody>\n",
       "    <tr>\n",
       "      <th>0</th>\n",
       "      <td>tem 7 meses q uso cartao e o limite nunca aumentapedi para fazer pagamentos antecipadodificil de...</td>\n",
       "      <td>Limite de crédito</td>\n",
       "    </tr>\n",
       "    <tr>\n",
       "      <th>1</th>\n",
       "      <td>fiz um deposito na minha conta mas nao aparece meu saldo em lugar nenhum precisa ter essa opcao ...</td>\n",
       "      <td>Depósito demora</td>\n",
       "    </tr>\n",
       "    <tr>\n",
       "      <th>2</th>\n",
       "      <td>simplesmente um lixo</td>\n",
       "      <td>Comentário detrator sem informação</td>\n",
       "    </tr>\n",
       "    <tr>\n",
       "      <th>3</th>\n",
       "      <td>ajuste de valor r 60000 nao depositarei mais nenhum centavo nessa conta a menos que a empresa ve...</td>\n",
       "      <td>Outro</td>\n",
       "    </tr>\n",
       "    <tr>\n",
       "      <th>4</th>\n",
       "      <td>nao consigo acessar minha conta o suporte nao me ajuda</td>\n",
       "      <td>Problema de acesso</td>\n",
       "    </tr>\n",
       "  </tbody>\n",
       "</table>\n",
       "</div>"
      ],
      "text/plain": [
       "                                                                                                review  \\\n",
       "0  tem 7 meses q uso cartao e o limite nunca aumentapedi para fazer pagamentos antecipadodificil de...   \n",
       "1  fiz um deposito na minha conta mas nao aparece meu saldo em lugar nenhum precisa ter essa opcao ...   \n",
       "2                                                                                 simplesmente um lixo   \n",
       "3  ajuste de valor r 60000 nao depositarei mais nenhum centavo nessa conta a menos que a empresa ve...   \n",
       "4                                               nao consigo acessar minha conta o suporte nao me ajuda   \n",
       "\n",
       "                                label  \n",
       "0                   Limite de crédito  \n",
       "1                     Depósito demora  \n",
       "2  Comentário detrator sem informação  \n",
       "3                               Outro  \n",
       "4                  Problema de acesso  "
      ]
     },
     "execution_count": 4,
     "metadata": {},
     "output_type": "execute_result"
    }
   ],
   "source": [
    "df = pandas.read_csv('datasets/reviews.csv')\n",
    "df = df[~df['category'].isna()]\n",
    "df = df.rename(columns={'trusted': 'review', 'category': 'label'})\n",
    "\n",
    "df.head()"
   ]
  },
  {
   "cell_type": "markdown",
   "metadata": {},
   "source": [
    "### Categorias - Geral"
   ]
  },
  {
   "cell_type": "code",
   "execution_count": 5,
   "metadata": {},
   "outputs": [
    {
     "data": {
      "text/plain": [
       "Comentário detrator sem informação    173\n",
       "Sugestão de funcionalidade            131\n",
       "Aplicativo não funcional              119\n",
       "Limite de crédito                      99\n",
       "Difícil conseguir crédito              93\n",
       "Problema de acesso                     91\n",
       "Elogio                                 81\n",
       "Problema com código no e-mail          69\n",
       "Outro                                  59\n",
       "Foto do documento                      59\n",
       "Depósito demora                        41\n",
       "Cartão não chegou                      36\n",
       "Dúvida                                 29\n",
       "Bloqueio de conta                      12\n",
       "Problema no cadastro                    8\n",
       "Não estou conseguindo                   1\n",
       "Name: label, dtype: int64"
      ]
     },
     "execution_count": 5,
     "metadata": {},
     "output_type": "execute_result"
    }
   ],
   "source": [
    "df['label'].value_counts()"
   ]
  },
  {
   "cell_type": "markdown",
   "metadata": {},
   "source": [
    "### Categorias - Treino"
   ]
  },
  {
   "cell_type": "code",
   "execution_count": 6,
   "metadata": {},
   "outputs": [
    {
     "data": {
      "text/plain": [
       "Comentário detrator sem informação    136\n",
       "Sugestão de funcionalidade            107\n",
       "Aplicativo não funcional              105\n",
       "Limite de crédito                      78\n",
       "Difícil conseguir crédito              77\n",
       "Problema de acesso                     75\n",
       "Elogio                                 70\n",
       "Outro                                  48\n",
       "Problema com código no e-mail          45\n",
       "Foto do documento                      41\n",
       "Cartão não chegou                      32\n",
       "Depósito demora                        31\n",
       "Dúvida                                 19\n",
       "Bloqueio de conta                       8\n",
       "Problema no cadastro                    8\n",
       "Não estou conseguindo                   1\n",
       "Name: label, dtype: int64"
      ]
     },
     "execution_count": 6,
     "metadata": {},
     "output_type": "execute_result"
    }
   ],
   "source": [
    "df_tra = df.sample(frac=0.8, random_state=42)\n",
    "df_tra['label'].value_counts()"
   ]
  },
  {
   "cell_type": "markdown",
   "metadata": {},
   "source": [
    "### Categorias - Teste"
   ]
  },
  {
   "cell_type": "code",
   "execution_count": 7,
   "metadata": {},
   "outputs": [
    {
     "data": {
      "text/plain": [
       "Comentário detrator sem informação    37\n",
       "Problema com código no e-mail         24\n",
       "Sugestão de funcionalidade            24\n",
       "Limite de crédito                     21\n",
       "Foto do documento                     18\n",
       "Problema de acesso                    16\n",
       "Difícil conseguir crédito             16\n",
       "Aplicativo não funcional              14\n",
       "Elogio                                11\n",
       "Outro                                 11\n",
       "Dúvida                                10\n",
       "Depósito demora                       10\n",
       "Bloqueio de conta                      4\n",
       "Cartão não chegou                      4\n",
       "Name: label, dtype: int64"
      ]
     },
     "execution_count": 7,
     "metadata": {},
     "output_type": "execute_result"
    }
   ],
   "source": [
    "df_tes = df.drop(df_tra.index)\n",
    "df_tes['label'].value_counts()"
   ]
  },
  {
   "cell_type": "markdown",
   "metadata": {},
   "source": [
    "### Vectorizar Reviews"
   ]
  },
  {
   "cell_type": "code",
   "execution_count": 8,
   "metadata": {},
   "outputs": [
    {
     "data": {
      "text/plain": [
       "TfidfVectorizer(max_df=0.65, max_features=1000, min_df=5, ngram_range=(1, 3))"
      ]
     },
     "execution_count": 8,
     "metadata": {},
     "output_type": "execute_result"
    }
   ],
   "source": [
    "documents = df_tra['review'].values\n",
    "\n",
    "vectorizer = TfidfVectorizer(\n",
    "    min_df=5,\n",
    "    max_df=0.65,\n",
    "    ngram_range=(1, 3),\n",
    "    max_features=1000\n",
    ").fit(documents)\n",
    "\n",
    "vectorizer"
   ]
  },
  {
   "cell_type": "markdown",
   "metadata": {},
   "source": [
    "### Modelo"
   ]
  },
  {
   "cell_type": "code",
   "execution_count": 9,
   "metadata": {},
   "outputs": [
    {
     "data": {
      "text/plain": [
       "LogisticRegression(class_weight='balanced', multi_class='ovr', random_state=42)"
      ]
     },
     "execution_count": 9,
     "metadata": {},
     "output_type": "execute_result"
    }
   ],
   "source": [
    "X_tra = vectorizer.transform(documents)\n",
    "y_tra = df_tra['label'].values\n",
    "\n",
    "oversample = RandomOverSampler(random_state=42)\n",
    "X_over, y_over = oversample.fit_resample(X_tra, y_tra)\n",
    "\n",
    "classifier = LogisticRegression(\n",
    "    multi_class='ovr',\n",
    "    solver='lbfgs',\n",
    "    class_weight='balanced',\n",
    "    random_state=42\n",
    ").fit(X_over, y_over)\n",
    "\n",
    "# classifier = RandomForestClassifier(max_depth=150, random_state=42).fit(X_over, y_over)\n",
    "\n",
    "classifier"
   ]
  },
  {
   "cell_type": "markdown",
   "metadata": {},
   "source": [
    "### Avaliação"
   ]
  },
  {
   "cell_type": "code",
   "execution_count": 10,
   "metadata": {},
   "outputs": [
    {
     "name": "stdout",
     "output_type": "stream",
     "text": [
      "                                    precision    recall  f1-score   support\n",
      "\n",
      "          Aplicativo não funcional       0.56      0.71      0.63        14\n",
      "                 Bloqueio de conta       0.00      0.00      0.00         4\n",
      "                 Cartão não chegou       0.50      1.00      0.67         4\n",
      "Comentário detrator sem informação       0.80      0.86      0.83        37\n",
      "                   Depósito demora       0.69      0.90      0.78        10\n",
      "         Difícil conseguir crédito       0.89      1.00      0.94        16\n",
      "                            Dúvida       1.00      0.30      0.46        10\n",
      "                            Elogio       1.00      0.82      0.90        11\n",
      "                 Foto do documento       1.00      0.89      0.94        18\n",
      "                 Limite de crédito       1.00      0.95      0.98        21\n",
      "                             Outro       0.44      0.36      0.40        11\n",
      "     Problema com código no e-mail       0.96      0.92      0.94        24\n",
      "                Problema de acesso       0.85      0.69      0.76        16\n",
      "              Problema no cadastro       0.00      0.00      0.00         0\n",
      "        Sugestão de funcionalidade       0.77      0.83      0.80        24\n",
      "\n",
      "                          accuracy                           0.80       220\n",
      "                         macro avg       0.70      0.68      0.67       220\n",
      "                      weighted avg       0.82      0.80      0.80       220\n",
      "\n"
     ]
    }
   ],
   "source": [
    "X_tes = vectorizer.transform(df_tes['review'].values)\n",
    "y_tes = df_tes['label'].values\n",
    "\n",
    "y_prd = classifier.predict(X_tes)\n",
    "print(classification_report(y_tes, y_prd))"
   ]
  },
  {
   "cell_type": "markdown",
   "metadata": {},
   "source": [
    "### Matriz de Confusão"
   ]
  },
  {
   "cell_type": "code",
   "execution_count": 26,
   "metadata": {},
   "outputs": [
    {
     "data": {
      "image/png": "[encoded data removed]",
      "text/plain": [
       "<Figure size 1008x576 with 2 Axes>"
      ]
     },
     "metadata": {
      "needs_background": "light"
     },
     "output_type": "display_data"
    }
   ],
   "source": [
    "cm = confusion_matrix(y_tes, y_prd)\n",
    "cmd = ConfusionMatrixDisplay(cm, display_labels=[\n",
    "    'Aplicativo não funcional',\n",
    "    'Bloqueio de conta',\n",
    "    'Cartão não chegou',\n",
    "    'Comentário detrator sem informação',\n",
    "    'Depósito demora',\n",
    "    'Difícil conseguir crédito',\n",
    "    'Dúvida',\n",
    "    'Elogio',\n",
    "    'Foto do documento',\n",
    "    'Limite de crédito',\n",
    "    'Outro',\n",
    "    'Problema com código no e-mail',\n",
    "    'Problema de acesso',\n",
    "    'Problema no cadastro',\n",
    "    'Sugestão de funcionalidade'\n",
    "])\n",
    "\n",
    "cmd.plot()\n",
    "\n",
    "pyplot.xticks(rotation=90)\n",
    "pyplot.show()"
   ]
  },
  {
   "cell_type": "markdown",
   "metadata": {},
   "source": [
    "### Savando Modelo"
   ]
  },
  {
   "cell_type": "code",
   "execution_count": 12,
   "metadata": {},
   "outputs": [
    {
     "data": {
      "text/plain": [
       "['models/classifier']"
      ]
     },
     "execution_count": 12,
     "metadata": {},
     "output_type": "execute_result"
    }
   ],
   "source": [
    "joblib.dump(vectorizer, 'models/vectorizer')\n",
    "joblib.dump(classifier, 'models/classifier')"
   ]
  }
 ],
 "metadata": {
  "kernelspec": {
   "display_name": "Python 3",
   "language": "python",
   "name": "python3"
  },
  "language_info": {
   "codemirror_mode": {
    "name": "ipython",
    "version": 3
   },
   "file_extension": ".py",
   "mimetype": "text/x-python",
   "name": "python",
   "nbconvert_exporter": "python",
   "pygments_lexer": "ipython3",
   "version": "3.8.5"
  }
 },
 "nbformat": 4,
 "nbformat_minor": 4
}
